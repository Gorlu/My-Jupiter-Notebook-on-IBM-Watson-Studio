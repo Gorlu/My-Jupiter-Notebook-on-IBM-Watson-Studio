{
    "cells": [
        {
            "metadata": {
                "collapsed": true
            },
            "cell_type": "markdown",
            "source": "My Jupyter Notebook on IBM Watson Studio\n======"
        },
        {
            "metadata": {},
            "cell_type": "markdown",
            "source": "**Lyubov Gorelik**\na student"
        },
        {
            "metadata": {},
            "cell_type": "markdown",
            "source": "*I am interested in data science because I like to solve probles with analysis of data*"
        },
        {
            "metadata": {},
            "cell_type": "markdown",
            "source": "My code is supposed to evalute the expression \"3+2\""
        },
        {
            "metadata": {},
            "cell_type": "code",
            "source": "print(3+2)",
            "execution_count": 10,
            "outputs": [
                {
                    "output_type": "stream",
                    "text": "5\n",
                    "name": "stdout"
                }
            ]
        },
        {
            "metadata": {},
            "cell_type": "markdown",
            "source": "Markdown | Less | Pretty\n--- | --- | ---\n*Still* | `renders` | **nicely**\n1 | 2 | 3"
        },
        {
            "metadata": {},
            "cell_type": "markdown",
            "source": "1. Hope\n2. It\n3. Looks\n4. As\n5. I\n6. Wanted"
        },
        {
            "metadata": {},
            "cell_type": "markdown",
            "source": "---"
        },
        {
            "metadata": {},
            "cell_type": "markdown",
            "source": ">thanks for watching"
        }
    ],
    "metadata": {
        "kernelspec": {
            "name": "python3",
            "display_name": "Python 3.6",
            "language": "python"
        },
        "language_info": {
            "name": "python",
            "version": "3.6.9",
            "mimetype": "text/x-python",
            "codemirror_mode": {
                "name": "ipython",
                "version": 3
            },
            "pygments_lexer": "ipython3",
            "nbconvert_exporter": "python",
            "file_extension": ".py"
        }
    },
    "nbformat": 4,
    "nbformat_minor": 1
}